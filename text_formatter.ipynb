{
 "cells": [
  {
   "cell_type": "raw",
   "id": "3fbbeebf-f1d5-4656-9734-70948867c610",
   "metadata": {},
   "source": [
    "procesas:\n",
    "1) su regex surandam kur yra, tarkim modulis (pradzia ir pabaiga bei viskas in between)(su re.findall)\n",
    "2) su str.find(output_of_re.findall) surandam kurioje vietoje yra dominantis pattern\n",
    "3) patikrinam ar yra visi reikalingi formatavimo code words\n",
    "4) jeigu nera, prideti reikalingus formatavimo zodzius"
   ]
  },
  {
   "cell_type": "raw",
   "id": "39967f19-a4d5-48ab-acb9-38208b130d81",
   "metadata": {},
   "source": [
    "Current problems with this code:\n",
    "    it will format even the \"optb()opte\" sections and that is bad\n",
    "        could resolve that by first finding the first optb, saving a string with that as its own thing, remove the optb part from the search and add it in the end"
   ]
  },
  {
   "cell_type": "code",
   "execution_count": 2,
   "id": "e5ee66db-b813-4e30-9b2d-2a10e81c7e0f",
   "metadata": {},
   "outputs": [],
   "source": [
    "import os\n",
    "import glob\n",
    "import re"
   ]
  },
  {
   "cell_type": "code",
   "execution_count": 3,
   "id": "7491deac-f2e1-450f-8bc5-19db8ecbbbef",
   "metadata": {},
   "outputs": [],
   "source": [
    "test_text = '''$\\n\\\\bold{24 \\\\space užduotis}\\n$\\n\\n$\\n% Tikėtina - sunkus\\n$\\n\\nLygiakraščio @ trikampio $ABC$ kraštinė $AB$ lygi $4$. Atlikite veiksmus ir apskaičiuokite reiškinio reikšmę:\\n\\n$$\\n\\\\overrightarrow{AB} \\\\cdot \\\\overrightarrow{AC} + \\\\overrightarrow{BC} \\\\cdot \\\\overrightarrow{BA} + \\\\overrightarrow{CA} \\\\cdot \\\\overrightarrow{CB}\\n$$\\n\\nSprendimas:\\n\\nVektorių skaliarinė sandauga apskaičiuojama pagal formulę:\\n\\n$$\\n\\\\overrightarrow{a} \\\\cdot \\\\overrightarrow{b} = \\\\big|\\\\overrightarrow{a}\\\\big| \\\\cdot \\\\big|\\\\overrightarrow{b}\\\\big| \\\\cdot \\\\cos{(\\\\overrightarrow{a}\\\\LARGE ^{^\\\\wedge} \\\\normalsize \\\\overrightarrow{b})}\\n$$\\n\\nKadangi lygiakraščio trikampio visos kraštinės ir kampai lygūs, tai:\\n\\n$$\\n\\\\overrightarrow{AB} \\\\cdot \\\\overrightarrow{AC} + \\\\overrightarrow{BC} \\\\cdot \\\\overrightarrow{BA} + \\\\overrightarrow{CA} \\\\cdot \\\\overrightarrow{CB} = 3 \\\\cdot \\\\big|\\\\overrightarrow{AB}\\\\big|^{\\\\normalsize^{2}} \\\\cdot \\\\cos{(60 \\\\degree)} = 3 \\\\cdot 4^{2} \\\\cdot \\\\frac{1}{2} = 24 \\n$$\\n\\nAts.: $24$\\n\\n24'''"
   ]
  },
  {
   "cell_type": "code",
   "execution_count": 4,
   "id": "676a6620-cd7d-4c0f-b0eb-6ae7bb7015b9",
   "metadata": {},
   "outputs": [
    {
     "data": {
      "text/plain": [
       "'C:\\\\Users\\\\justa\\\\OneDrive\\\\Stalinis kompiuteris\\\\Work\\\\Lumi'"
      ]
     },
     "execution_count": 4,
     "metadata": {},
     "output_type": "execute_result"
    }
   ],
   "source": [
    "#os.chdir(\"LumiMath_uzdaviniai/3.3.4. Vektorių skaliarinė sandauga\")\n",
    "#os.chdir('..')\n",
    "os.getcwd()"
   ]
  },
  {
   "cell_type": "code",
   "execution_count": 5,
   "id": "a713807a-9db8-487c-b5a2-541957e4e9d7",
   "metadata": {},
   "outputs": [
    {
     "data": {
      "text/plain": [
       "'$\\n\\\\bold{24 \\\\space užduotis}\\n$\\n\\n$\\n% Tikėtina - sunkus\\n$\\n\\nLygiakraščio @ trikampio $ABC$ kraštinė $AB$ lygi $4$. Atlikite veiksmus ir apskaičiuokite reiškinio reikšmę:\\n\\n$$\\n\\\\overrightarrow{AB} \\\\cdot \\\\overrightarrow{AC} + \\\\overrightarrow{BC} \\\\cdot \\\\overrightarrow{BA} + \\\\overrightarrow{CA} \\\\cdot \\\\overrightarrow{CB}\\n$$\\n\\nSprendimas:\\n\\nVektorių skaliarinė sandauga apskaičiuojama pagal formulę:\\n\\n$$\\n\\\\overrightarrow{a} \\\\cdot \\\\overrightarrow{b} = \\\\big|\\\\overrightarrow{a}\\\\big| \\\\cdot \\\\big|\\\\overrightarrow{b}\\\\big| \\\\cdot \\\\cos{(\\\\overrightarrow{a}\\\\LARGE ^{^\\\\wedge} \\\\normalsize \\\\overrightarrow{b})}\\n$$\\n\\nKadangi lygiakraščio trikampio visos kraštinės ir kampai lygūs, tai:\\n\\n$$\\n\\\\overrightarrow{AB} \\\\cdot \\\\overrightarrow{AC} + \\\\overrightarrow{BC} \\\\cdot \\\\overrightarrow{BA} + \\\\overrightarrow{CA} \\\\cdot \\\\overrightarrow{CB} = 3 \\\\cdot \\\\big|\\\\overrightarrow{AB}\\\\big|^{\\\\normalsize^{2}} \\\\cdot \\\\cos{(60 \\\\degree)} = 3 \\\\cdot 4^{2} \\\\cdot \\\\frac{1}{2} = 24 \\n$$\\n\\nAts.: $24$\\n\\n24'"
      ]
     },
     "execution_count": 5,
     "metadata": {},
     "output_type": "execute_result"
    }
   ],
   "source": [
    "test_text"
   ]
  },
  {
   "cell_type": "code",
   "execution_count": 5,
   "id": "ef853325-3850-48a1-8fcb-cf9cbd647de0",
   "metadata": {},
   "outputs": [],
   "source": [
    "with open(\"24_užduotis.md\", 'r', encoding='utf-8') as file:\n",
    "    content = file.read()"
   ]
  },
  {
   "cell_type": "code",
   "execution_count": 48,
   "id": "aec1285c-4eea-4f97-b19c-d91e432023d3",
   "metadata": {},
   "outputs": [],
   "source": [
    "#types of features that we use for displaying neat looking math's equations\n",
    "modulis = '\\|.*\\|'\n",
    "vektorius = '(overrightarrow{[a-z]}.*)'\n",
    "at = '@'"
   ]
  },
  {
   "cell_type": "code",
   "execution_count": 177,
   "id": "510d04db-3fe0-498b-9cbb-a1eaf89eb450",
   "metadata": {},
   "outputs": [],
   "source": [
    "vector_in_module = '\\|.*overrightarrow\\{[a-zA-Z]*\\}.*$\\|'\n",
    "fraction_in_brackets = '\\\\frac\\{[^{}]*\\}\\{[^{}]*\\}'\n",
    "root_in_brackets = '\\\\sqrt\\{[a-zA-Z0-9]+\\}'"
   ]
  },
  {
   "cell_type": "code",
   "execution_count": 59,
   "id": "b9de059b-c34c-43ec-a5b1-f62b01aefebb",
   "metadata": {},
   "outputs": [
    {
     "data": {
      "text/plain": [
       "'$\\n\\\\bold{24 \\\\space užduotis}\\n$\\n\\n$\\n% Tikėtina - sunkus\\n$\\n\\nLygiakraščio trikampio $ABC$ kraštinė $AB$ lygi $4$. Atlikite veiksmus ir apskaičiuokite reiškinio reikšmę:\\n\\n$$\\n\\\\overrightarrow{AB} \\\\cdot \\\\overrightarrow{AC} + \\\\overrightarrow{BC} \\\\cdot \\\\overrightarrow{BA} + \\\\overrightarrow{CA} \\\\cdot \\\\overrightarrow{CB}\\n$$\\n\\nSprendimas:\\n\\nVektorių skaliarinė sandauga apskaičiuojama pagal formulę:\\n\\n$$\\n\\\\overrightarrow{a} \\\\cdot \\\\overrightarrow{b} = \\\\bigTHIS IS A TEST THIS IS A TEST THIS IS A TEST \\\\cdot \\\\cos{(\\\\overrightarrow{a}\\\\LARGE ^{^\\\\wedge} \\\\normalsize \\\\overrightarrow{b})}\\n$$\\n\\nKadangi lygiakraščio trikampio visos kraštinės ir kampai lygūs, tai:\\n\\n$$\\n\\\\overrightarrow{AB} \\\\cdot \\\\overrightarrow{AC} + \\\\overrightarrow{BC} \\\\cdot \\\\overrightarrow{BA} + \\\\overrightarrow{CA} \\\\cdot \\\\overrightarrow{CB} = 3 \\\\cdot \\\\bigTHIS IS A TEST THIS IS A TEST THIS IS A TEST^{\\\\normalsize^{2}} \\\\cdot \\\\cos{(60 \\\\degree)} = 3 \\\\cdot 4^{2} \\\\cdot \\\\frac{1}{2} = 24 \\n$$\\n\\nAts.: $24$\\n\\n24'"
      ]
     },
     "execution_count": 59,
     "metadata": {},
     "output_type": "execute_result"
    }
   ],
   "source": [
    "re.sub(modulis, 'THIS IS A TEST THIS IS A TEST THIS IS A TEST', content)"
   ]
  },
  {
   "cell_type": "code",
   "execution_count": 159,
   "id": "1afe1cdb-6ecd-4dec-b0bc-0b128038d03b",
   "metadata": {},
   "outputs": [],
   "source": [
    "def module_formating(content='', feature='', replace=''):\n",
    "    \n",
    "    '''\n",
    "    Will look for a specified feature and, if needed, replace it with the proper formating \n",
    "    content (str): text (within the .md file)\n",
    "    feature (str): the type of feature that we want to check. It can be a vector, angle and so on. \\Will, hopefully, implement that a list could be an input\\\n",
    "    replace (str): what the feature will be replaced with \n",
    "    '''\n",
    "    \n",
    "    #A list of items that match the pattern\n",
    "    features_of_interest = re.findall(feature, content)\n",
    "    #A list of starting positions of items, matching the pattern \n",
    "    starting_positions = [0]\n",
    "    \n",
    "    for i in features_of_interest:\n",
    "        #finds the locations of the items in features_of_interest and adds it to the list of starting locations\n",
    "        found = content.find(i)\n",
    "        starting_positions.append(found)\n",
    "        #slicing the input string so that the item that has already been added to the starting positions, does not get added there again,\n",
    "        #when the same element as before is being parsed\n",
    "        #content = content[found:]\n",
    "        \n",
    "    return features_of_interest"
   ]
  },
  {
   "cell_type": "code",
   "execution_count": 178,
   "id": "9c072d7d-c2e5-4c76-805e-bfa0132d1521",
   "metadata": {},
   "outputs": [
    {
     "data": {
      "text/plain": [
       "[]"
      ]
     },
     "execution_count": 178,
     "metadata": {},
     "output_type": "execute_result"
    }
   ],
   "source": [
    "module_formating(test_text, vector_in_module)"
   ]
  },
  {
   "cell_type": "code",
   "execution_count": 176,
   "id": "3f725cf9-7d8d-4e32-907e-4603414891a5",
   "metadata": {
    "tags": []
   },
   "outputs": [
    {
     "ename": "TypeError",
     "evalue": "slice indices must be integers or None or have an __index__ method",
     "output_type": "error",
     "traceback": [
      "\u001b[1;31m---------------------------------------------------------------------------\u001b[0m",
      "\u001b[1;31mTypeError\u001b[0m                                 Traceback (most recent call last)",
      "Input \u001b[1;32mIn [176]\u001b[0m, in \u001b[0;36m<cell line: 3>\u001b[1;34m()\u001b[0m\n\u001b[0;32m      2\u001b[0m ilgis \u001b[38;5;241m=\u001b[39m \u001b[38;5;28mlen\u001b[39m(places)\n\u001b[0;32m      3\u001b[0m \u001b[38;5;28;01mfor\u001b[39;00m i \u001b[38;5;129;01min\u001b[39;00m \u001b[38;5;28mrange\u001b[39m(\u001b[38;5;241m0\u001b[39m,\u001b[38;5;28mlen\u001b[39m(places)\u001b[38;5;241m-\u001b[39m\u001b[38;5;241m1\u001b[39m):\n\u001b[1;32m----> 4\u001b[0m     \u001b[38;5;28mprint\u001b[39m(\u001b[43mtest_text\u001b[49m\u001b[43m[\u001b[49m\u001b[43mplaces\u001b[49m\u001b[43m[\u001b[49m\u001b[43mi\u001b[49m\u001b[43m]\u001b[49m\u001b[43m:\u001b[49m\u001b[43mplaces\u001b[49m\u001b[43m[\u001b[49m\u001b[43mi\u001b[49m\u001b[38;5;241;43m+\u001b[39;49m\u001b[38;5;241;43m1\u001b[39;49m\u001b[43m]\u001b[49m\u001b[43m]\u001b[49m, \u001b[38;5;124m'\u001b[39m\u001b[38;5;130;01m\\n\u001b[39;00m\u001b[38;5;124m AAAAAAAAAAAAAAAAAAAAA\u001b[39m\u001b[38;5;124m'\u001b[39m)\n",
      "\u001b[1;31mTypeError\u001b[0m: slice indices must be integers or None or have an __index__ method"
     ]
    }
   ],
   "source": [
    "places = module_formating(test_text, vector_in_module)\n",
    "ilgis = len(places)\n",
    "for i in range(0,len(places)-1):\n",
    "    print(test_text[places[i]:places[i+1]], '\\n AAAAAAAAAAAAAAAAAAAAA')"
   ]
  },
  {
   "cell_type": "code",
   "execution_count": 138,
   "id": "8369291b-9e38-455f-9fd1-0ed9235edd18",
   "metadata": {},
   "outputs": [
    {
     "data": {
      "text/plain": [
       "[0, 442, 816]"
      ]
     },
     "execution_count": 138,
     "metadata": {},
     "output_type": "execute_result"
    }
   ],
   "source": [
    "places"
   ]
  },
  {
   "cell_type": "code",
   "execution_count": 125,
   "id": "a3e85fa6-31c8-457b-9d27-9a1a8afd8cc0",
   "metadata": {},
   "outputs": [
    {
     "data": {
      "text/plain": [
       "list"
      ]
     },
     "execution_count": 125,
     "metadata": {},
     "output_type": "execute_result"
    }
   ],
   "source": [
    "type(re.findall('\\|', test_text))"
   ]
  },
  {
   "cell_type": "code",
   "execution_count": 121,
   "id": "2565e4b0-38bb-4059-b9b9-3ee92dd3cab8",
   "metadata": {},
   "outputs": [
    {
     "data": {
      "text/plain": [
       "'g|\\\\overrightarrow{AB}\\\\big|^{\\\\normalsize^{2}} \\\\cdot \\\\cos{(60 \\\\degree)} = 3 \\\\cdot 4^{2} \\\\cdot \\\\frac{1}{2} = 24 \\n$$\\n\\nAts.: $24$\\n\\n24'"
      ]
     },
     "execution_count": 121,
     "metadata": {},
     "output_type": "execute_result"
    }
   ],
   "source": [
    "test_text[815:]"
   ]
  },
  {
   "cell_type": "code",
   "execution_count": 123,
   "id": "a5838a76-85ab-4063-bbea-0b50868ada0e",
   "metadata": {},
   "outputs": [
    {
     "data": {
      "text/plain": [
       "'|\\\\overrightarrow{a}\\\\big| \\\\cdot \\\\big|\\\\overrightarrow{b}\\\\big| \\\\cdot \\\\cos{(\\\\overrightarrow{a}\\\\LARGE ^{^\\\\wedge} \\\\normalsize \\\\overrightarrow{b})}\\n$$\\n\\nKadangi lygiakraščio trikampio visos kraštinės ir kampai lygūs, tai:\\n\\n$$\\n\\\\overrightarrow{AB} \\\\cdot \\\\overrightarrow{AC} + \\\\overrightarrow{BC} \\\\cdot \\\\overrightarrow{BA} + \\\\overrightarrow{CA} \\\\cdot \\\\overrightarrow{CB} = 3 \\\\cdot \\\\big|\\\\overrightarrow{AB}\\\\big|^{\\\\normalsize^{2}} \\\\cdot \\\\cos{(60 \\\\degree)} = 3 \\\\cdot 4^{2} \\\\cdot \\\\frac{1}{2} = 24 \\n$$\\n\\nAts.: $24$\\n\\n24'"
      ]
     },
     "execution_count": 123,
     "metadata": {},
     "output_type": "execute_result"
    }
   ],
   "source": [
    "test_text[test_text.find(\"|\"):]"
   ]
  },
  {
   "cell_type": "code",
   "execution_count": null,
   "id": "1526fc7c-dcb7-4b87-be4e-40ffca72fc89",
   "metadata": {},
   "outputs": [],
   "source": []
  }
 ],
 "metadata": {
  "kernelspec": {
   "display_name": "Python 3 (ipykernel)",
   "language": "python",
   "name": "python3"
  },
  "language_info": {
   "codemirror_mode": {
    "name": "ipython",
    "version": 3
   },
   "file_extension": ".py",
   "mimetype": "text/x-python",
   "name": "python",
   "nbconvert_exporter": "python",
   "pygments_lexer": "ipython3",
   "version": "3.9.12"
  }
 },
 "nbformat": 4,
 "nbformat_minor": 5
}
